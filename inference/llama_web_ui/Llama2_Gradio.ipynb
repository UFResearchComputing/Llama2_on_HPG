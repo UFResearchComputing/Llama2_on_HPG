{
 "cells": [
  {
   "cell_type": "code",
   "execution_count": null,
   "id": "e4532411",
   "metadata": {},
   "outputs": [],
   "source": [
    "# TODO REFACTOR: Integrate code from _legacy/inference.py into this notebook"
   ]
  },
  {
   "cell_type": "markdown",
   "id": "47a9adb3",
   "metadata": {},
   "source": [
    "## This demo app shows how to query Llama 2 using the Gradio UI.\n",
    "\n",
    "Since we are using Replicate in this example, you will need to replace `<your replicate api token>` with your API token.\n",
    "\n",
    "To get the Replicate token: \n",
    "\n",
    "- You will need to first sign in with Replicate with your github account\n",
    "- Then create a free API token [here](https://replicate.com/account/api-tokens) that you can use for a while \n",
    "\n",
    "**Note** After the free trial ends, you will need to enter billing info to continue to use Llama2 hosted on Replicate.\n",
    "\n",
    "To run this example:\n",
    "- Set up your Replicate API token and enter it in place of `<your replicate api token>`\n",
    "- Run the notebook\n",
    "- Enter your question and click Submit\n",
    "\n",
    "In the notebook or a browser with URL http://127.0.0.1:7860 you should see a UI with your answer."
   ]
  },
  {
   "cell_type": "code",
   "execution_count": 2,
   "id": "928041cc",
   "metadata": {
    "tags": []
   },
   "outputs": [
    {
     "name": "stdout",
     "output_type": "stream",
     "text": [
      "Running on local URL:  http://127.0.0.1:7861\n",
      "Running on public URL: https://da04ca953d96e094f3.gradio.live\n",
      "\n",
      "This share link expires in 72 hours. For free permanent hosting and GPU upgrades, run `gradio deploy` from Terminal to deploy to Spaces (https://huggingface.co/spaces)\n"
     ]
    },
    {
     "data": {
      "text/html": [
       "<div><iframe src=\"https://da04ca953d96e094f3.gradio.live\" width=\"100%\" height=\"500\" allow=\"autoplay; camera; microphone; clipboard-read; clipboard-write;\" frameborder=\"0\" allowfullscreen></iframe></div>"
      ],
      "text/plain": [
       "<IPython.core.display.HTML object>"
      ]
     },
     "metadata": {},
     "output_type": "display_data"
    },
    {
     "data": {
      "text/plain": []
     },
     "execution_count": 2,
     "metadata": {},
     "output_type": "execute_result"
    }
   ],
   "source": [
    "from langchain.schema import AIMessage, HumanMessage\n",
    "import gradio as gr\n",
    "from langchain.llms import Replicate\n",
    "import os\n",
    "\n",
    "os.environ[\"REPLICATE_API_TOKEN\"] = \"<your replicate api token>\"\n",
    "\n",
    "llama2_13b_chat = \"meta/llama-2-13b-chat:f4e2de70d66816a838a89eeeb621910adffb0dd0baba3976c96980970978018d\"\n",
    "\n",
    "llm = Replicate(\n",
    "    model=llama2_13b_chat,\n",
    "    model_kwargs={\"temperature\": 0.01, \"top_p\": 1, \"max_new_tokens\":500}\n",
    ")\n",
    "\n",
    "\n",
    "def predict(message, history):\n",
    "    history_langchain_format = []\n",
    "    for human, ai in history:\n",
    "        history_langchain_format.append(HumanMessage(content=human))\n",
    "        history_langchain_format.append(AIMessage(content=ai))\n",
    "    history_langchain_format.append(HumanMessage(content=message))\n",
    "    gpt_response = llm(message) #history_langchain_format)\n",
    "    return gpt_response#.content\n",
    "\n",
    "gr.ChatInterface(predict).launch(share=True)"
   ]
  },
  {
   "cell_type": "markdown",
   "id": "d450c316-3db4-472c-88f3-4b8d7c8bb341",
   "metadata": {},
   "source": [
    "**Next**, we are going to use the `transformers` library for loading and interacting with the model.\n",
    "\n",
    "Loading the Local Model:\n",
    "- Used transformers library to load the local model and tokenizer.\n",
    "\n",
    "Model Inference:\n",
    "- Modified the predict function to prepare the input text for the model.\n",
    "- Generated the response using the local model."
   ]
  },
  {
   "cell_type": "code",
   "execution_count": 4,
   "id": "2477c76e-a7c1-465c-ad11-b17b2bf5eff8",
   "metadata": {
    "tags": []
   },
   "outputs": [
    {
     "name": "stderr",
     "output_type": "stream",
     "text": [
      "Loading checkpoint shards: 100%|██████████| 2/2 [05:34<00:00, 167.03s/it]\n"
     ]
    },
    {
     "name": "stdout",
     "output_type": "stream",
     "text": [
      "Running on local URL:  http://127.0.0.1:7862\n",
      "Running on public URL: https://777539071df159b443.gradio.live\n",
      "\n",
      "This share link expires in 72 hours. For free permanent hosting and GPU upgrades, run `gradio deploy` from Terminal to deploy to Spaces (https://huggingface.co/spaces)\n"
     ]
    },
    {
     "data": {
      "text/html": [
       "<div><iframe src=\"https://777539071df159b443.gradio.live\" width=\"100%\" height=\"500\" allow=\"autoplay; camera; microphone; clipboard-read; clipboard-write;\" frameborder=\"0\" allowfullscreen></iframe></div>"
      ],
      "text/plain": [
       "<IPython.core.display.HTML object>"
      ]
     },
     "metadata": {},
     "output_type": "display_data"
    },
    {
     "data": {
      "text/plain": []
     },
     "execution_count": 4,
     "metadata": {},
     "output_type": "execute_result"
    }
   ],
   "source": [
    "from langchain.schema import AIMessage, HumanMessage\n",
    "import gradio as gr\n",
    "from transformers import AutoModelForCausalLM, AutoTokenizer\n",
    "import torch\n",
    "\n",
    "# Path to your local model directory\n",
    "local_model_path = \"/data/ai/models/nlp/llama/models_llama2/llama-2-7b-chat-hf\"\n",
    "\n",
    "# Load the tokenizer and model\n",
    "tokenizer = AutoTokenizer.from_pretrained(local_model_path)\n",
    "model = AutoModelForCausalLM.from_pretrained(local_model_path)\n",
    "\n",
    "# Set the model to evaluation mode\n",
    "model.eval()\n",
    "\n",
    "def predict(message, history):\n",
    "    # Convert the history to the required format\n",
    "    history_langchain_format = []\n",
    "    for human, ai in history:\n",
    "        history_langchain_format.append(HumanMessage(content=human))\n",
    "        history_langchain_format.append(AIMessage(content=ai))\n",
    "    history_langchain_format.append(HumanMessage(content=message))\n",
    "    \n",
    "    # Prepare the input for the model\n",
    "    input_text = \" \".join([msg.content for msg in history_langchain_format])\n",
    "    inputs = tokenizer(input_text, return_tensors=\"pt\")\n",
    "\n",
    "    # Generate the response using the model\n",
    "    with torch.no_grad():\n",
    "        outputs = model.generate(**inputs, max_new_tokens=500, temperature=0.01, top_p=1)\n",
    "\n",
    "    # Decode the generated response\n",
    "    generated_text = tokenizer.decode(outputs[0], skip_special_tokens=True)\n",
    "    \n",
    "    return generated_text\n",
    "\n",
    "gr.ChatInterface(predict).launch(share=True)"
   ]
  },
  {
   "cell_type": "code",
   "execution_count": null,
   "id": "5acb409d-b98c-420c-ba24-dbcb932465d3",
   "metadata": {},
   "outputs": [],
   "source": []
  }
 ],
 "metadata": {
  "kernelspec": {
   "display_name": "Llama2",
   "language": "python",
   "name": "llama2"
  },
  "language_info": {
   "codemirror_mode": {
    "name": "ipython",
    "version": 3
   },
   "file_extension": ".py",
   "mimetype": "text/x-python",
   "name": "python",
   "nbconvert_exporter": "python",
   "pygments_lexer": "ipython3",
   "version": "3.8.18"
  }
 },
 "nbformat": 4,
 "nbformat_minor": 5
}
